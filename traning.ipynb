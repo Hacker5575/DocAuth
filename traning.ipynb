{
 "cells": [
  {
   "cell_type": "code",
   "execution_count": 3,
   "metadata": {},
   "outputs": [],
   "source": [
    "from glob import glob \n",
    "from tqdm import tqdm\n",
    "from PIL import Image, ImageChops, ImageEnhance\n",
    "import os "
   ]
  },
  {
   "cell_type": "code",
   "execution_count": 4,
   "metadata": {},
   "outputs": [
    {
     "name": "stdout",
     "output_type": "stream",
     "text": [
      "total files 0\n",
      "types of files in the folder set()\n",
      "jpg files:  0\n",
      "tif files:  0\n",
      "tp_jpg_files:  0\n",
      "first 5 tp_jpg_files:  []\n"
     ]
    }
   ],
   "source": [
    "total_files = glob(\"../input/casia-dataset/CASIA2/**/*\")\n",
    "print('total files', len(total_files))\n",
    "\n",
    "# types of files\n",
    "types = set()\n",
    "for file in total_files:\n",
    "    types.add(file.split(\".\")[-1])\n",
    "print('types of files in the folder', types)\n",
    "\n",
    "# jpg files\n",
    "jpg_files = glob(\"../input/casia-dataset/CASIA2/*/*.jpg\")\n",
    "print('jpg files: ', len(jpg_files))\n",
    "\n",
    "#tif files\n",
    "tif_files = glob(\"../input/casia-dataset/CASIA2/**/*.tif\")\n",
    "print('tif files: ', len(tif_files))\n",
    "\n",
    "#TOTAL jpg file whose name starts with Tp\n",
    "tp_jpg_files = glob(\"../input/casia-dataset/CASIA2/**/Tp*\")\n",
    "print('tp_jpg_files: ', len(tp_jpg_files))\n",
    "print('first 5 tp_jpg_files: ', tp_jpg_files[:5])"
   ]
  },
  {
   "cell_type": "code",
   "execution_count": 5,
   "metadata": {},
   "outputs": [],
   "source": [
    "def convert_to_ela_image(image_path, quality=90):\n",
    "    # Save the image at the given quality\n",
    "    temp_file = 'temp.jpg'\n",
    "    im = Image.open(image_path).convert('RGB')\n",
    "    im.save(temp_file, 'JPEG', quality=quality)\n",
    "\n",
    "    # Open the saved image and the original image\n",
    "    saved = Image.open(temp_file)\n",
    "    orignal = Image.open(image_path)\n",
    "\n",
    "    # Find the absolute difference between the images\n",
    "    diff = ImageChops.difference(orignal, saved)\n",
    "\n",
    "    # Normalize the difference by multiplying with a scale factor and convert to grayscale\n",
    "    extrema = diff.getextrema()\n",
    "    max_diff = max([ex[1] for ex in extrema])\n",
    "    scale = 255.0 / max_diff\n",
    "    diff = ImageEnhance.Brightness(diff).enhance(scale)\n",
    "\n",
    "    # Remove the temporary file\n",
    "    os.remove(temp_file)\n",
    "\n",
    "    return diff"
   ]
  },
  {
   "cell_type": "code",
   "execution_count": 6,
   "metadata": {},
   "outputs": [
    {
     "name": "stdout",
     "output_type": "stream",
     "text": [
      "jpeg files 0\n",
      "total images 0\n"
     ]
    }
   ],
   "source": [
    "images = jpg_files\n",
    "print('jpeg files', len(images))\n",
    "images.extend(tif_files)\n",
    "print('total images', len(images))"
   ]
  },
  {
   "cell_type": "code",
   "execution_count": 7,
   "metadata": {},
   "outputs": [
    {
     "data": {
      "text/plain": [
       "(0, 0)"
      ]
     },
     "execution_count": 7,
     "metadata": {},
     "output_type": "execute_result"
    }
   ],
   "source": [
    "# find the number of files whose name starts with Tp in a list \n",
    "def find_tp_files(files):\n",
    "    tp_files, au_files = 0, 0\n",
    "    for file in files:\n",
    "        if file.split(\"/\")[-1].split(\"_\")[0] == 'Tp':\n",
    "            tp_files += 1\n",
    "        if file.split(\"/\")[-1].split(\"_\")[0] == \"Au\":\n",
    "            au_files += 1\n",
    "    return tp_files, au_files\n",
    "find_tp_files(images)"
   ]
  },
  {
   "cell_type": "code",
   "execution_count": 8,
   "metadata": {},
   "outputs": [
    {
     "name": "stderr",
     "output_type": "stream",
     "text": [
      "0it [00:00, ?it/s]\n"
     ]
    }
   ],
   "source": [
    "for image in tqdm(images[:11957]):\n",
    "    # converting image to ela image\n",
    "    ela_image = convert_to_ela_image(image)\n",
    "    # creating a new directory for ela images\n",
    "    if not os.path.exists('/CASIA2_ELA'):\n",
    "        os.mkdir('/CASIA2_ELA')\n",
    "#     print('/CASIA2_ELAtp/' + image.split('/')[-1])\n",
    "    ela_image.save('/CASIA2_ELA/' + image.split('/')[-1])"
   ]
  },
  {
   "cell_type": "code",
   "execution_count": 9,
   "metadata": {},
   "outputs": [
    {
     "name": "stdout",
     "output_type": "stream",
     "text": [
      "total els files 0\n",
      "types of files in the folder set()\n"
     ]
    }
   ],
   "source": [
    "# types of files\n",
    "total_files = glob('/CASIA2_ELA/*')\n",
    "print('total els files', len(total_files))\n",
    "types = set()\n",
    "for file in total_files:\n",
    "    types.add(file.split(\".\")[-1])\n",
    "print('types of files in the folder', types)"
   ]
  },
  {
   "cell_type": "code",
   "execution_count": 10,
   "metadata": {},
   "outputs": [
    {
     "data": {
      "text/plain": [
       "(0, 0)"
      ]
     },
     "execution_count": 10,
     "metadata": {},
     "output_type": "execute_result"
    }
   ],
   "source": [
    "find_tp_files(total_files)"
   ]
  },
  {
   "cell_type": "code",
   "execution_count": 11,
   "metadata": {},
   "outputs": [],
   "source": [
    "# counting the number of each class in the dataset\n",
    "def count_classes(dataloader):\n",
    "    tempered, original = 0, 0\n",
    "    for images, labels in tqdm(dataloader):\n",
    "        for label in labels:\n",
    "            if label == 1:\n",
    "                tempered += 1\n",
    "            else:\n",
    "                original += 1\n",
    "    print(f\"Tempered: {tempered}, Original: {original}\")"
   ]
  },
  {
   "cell_type": "code",
   "execution_count": null,
   "metadata": {},
   "outputs": [],
   "source": []
  }
 ],
 "metadata": {
  "kernelspec": {
   "display_name": "Python 3",
   "language": "python",
   "name": "python3"
  },
  "language_info": {
   "codemirror_mode": {
    "name": "ipython",
    "version": 3
   },
   "file_extension": ".py",
   "mimetype": "text/x-python",
   "name": "python",
   "nbconvert_exporter": "python",
   "pygments_lexer": "ipython3",
   "version": "3.9.13"
  },
  "orig_nbformat": 4
 },
 "nbformat": 4,
 "nbformat_minor": 2
}
